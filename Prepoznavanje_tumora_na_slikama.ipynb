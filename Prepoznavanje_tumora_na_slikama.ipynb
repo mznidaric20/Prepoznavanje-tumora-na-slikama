{
  "nbformat": 4,
  "nbformat_minor": 0,
  "metadata": {
    "colab": {
      "provenance": []
    },
    "kernelspec": {
      "name": "python3",
      "display_name": "Python 3"
    },
    "language_info": {
      "name": "python"
    }
  },
  "cells": [
    {
      "cell_type": "markdown",
      "source": [
        "#Zadatak umjesto drugog kolokvija\n",
        "#Autor: Matija Žnidarić"
      ],
      "metadata": {
        "id": "aiU3CK_fNp4J"
      }
    },
    {
      "cell_type": "code",
      "source": [
        "from google.colab import drive\n",
        "drive.mount('/content/drive')\n"
      ],
      "metadata": {
        "colab": {
          "base_uri": "https://localhost:8080/"
        },
        "id": "q3KXa7i9gN_C",
        "outputId": "352c10a8-2bca-4775-cacc-c23d441afcfc"
      },
      "execution_count": 5,
      "outputs": [
        {
          "output_type": "stream",
          "name": "stdout",
          "text": [
            "Mounted at /content/drive\n"
          ]
        }
      ]
    },
    {
      "cell_type": "code",
      "source": [
        "import os\n",
        "import tensorflow as tf\n",
        "from tensorflow.keras.preprocessing.image import ImageDataGenerator\n",
        "from tensorflow.keras.models import Sequential\n",
        "from tensorflow.keras.layers import Conv2D, MaxPooling2D, Flatten, Dense, Dropout\n",
        "from tensorflow.keras.optimizers import Adam\n",
        "import numpy as np\n",
        "\n",
        "base_dir = '/content/drive/MyDrive/Tumor/Slike'\n",
        "\n",
        "image_height, image_width = 150, 150\n",
        "batch_size = 32\n",
        "epochs = 30\n",
        "num_classes = 4\n",
        "\n",
        "train_datagen = ImageDataGenerator(rescale=1./255, validation_split=0.2)\n",
        "\n",
        "train_generator = train_datagen.flow_from_directory(\n",
        "    base_dir,\n",
        "    target_size=(image_height, image_width),\n",
        "    batch_size=batch_size,\n",
        "    class_mode='categorical',\n",
        "    subset='training')\n",
        "\n",
        "validation_generator = train_datagen.flow_from_directory(\n",
        "    base_dir,\n",
        "    target_size=(image_height, image_width),\n",
        "    batch_size=batch_size,\n",
        "    class_mode='categorical',\n",
        "    subset='validation')\n",
        "\n",
        "model = Sequential([\n",
        "    Conv2D(32, (3, 3), activation='relu', input_shape=(image_height, image_width, 3)),\n",
        "    MaxPooling2D(2, 2),\n",
        "    Conv2D(64, (3, 3), activation='relu'),\n",
        "    MaxPooling2D(2, 2),\n",
        "    Conv2D(128, (3, 3), activation='relu'),\n",
        "    MaxPooling2D(2, 2),\n",
        "    Flatten(),\n",
        "    Dense(512, activation='relu'),\n",
        "    Dropout(0.5),\n",
        "    Dense(num_classes, activation='softmax')\n",
        "])\n",
        "\n",
        "model.compile(optimizer=Adam(), loss='categorical_crossentropy', metrics=['accuracy'])\n",
        "\n",
        "history = model.fit(\n",
        "    train_generator,\n",
        "    validation_data=validation_generator,\n",
        "    epochs=epochs\n",
        ")\n",
        "\n",
        "loss, accuracy = model.evaluate(validation_generator)\n",
        "print(f'Test accuracy: {accuracy}, Test loss: {loss}')\n",
        "\n",
        "acc = history.history['accuracy']\n",
        "val_acc = history.history['val_accuracy']\n",
        "loss = history.history['loss']\n",
        "val_loss = history.history['val_loss']\n",
        "\n",
        "epochs_range = range(epochs)\n",
        "\n",
        "test_datagen = ImageDataGenerator(rescale=1./255)\n",
        "\n",
        "test_generator = test_datagen.flow_from_directory(\n",
        "    directory='/content/drive/MyDrive/Tumor/Upit',\n",
        "    target_size=(image_height, image_width),\n",
        "    batch_size=1,\n",
        "    class_mode=None,\n",
        "    shuffle=False,\n",
        "    classes=['']\n",
        ")\n",
        "\n",
        "\n",
        "predictions = model.predict(test_generator, steps=len(test_generator))\n",
        "\n",
        "predicted_classes = np.argmax(predictions, axis=1)\n",
        "\n",
        "class_names = list(train_generator.class_indices.keys())\n",
        "\n",
        "for i, path in enumerate(test_generator.filepaths):\n",
        "    print(f'Slika: {os.path.basename(path)}')\n",
        "    print(f'Predviđena klasa: {class_names[predicted_classes[i]]}\\n')"
      ],
      "metadata": {
        "colab": {
          "base_uri": "https://localhost:8080/"
        },
        "id": "W211ppF8pG4R",
        "outputId": "f7aca348-0ec7-402e-b56e-0b8a747fd010"
      },
      "execution_count": 8,
      "outputs": [
        {
          "output_type": "stream",
          "name": "stdout",
          "text": [
            "Found 32 images belonging to 4 classes.\n",
            "Found 8 images belonging to 4 classes.\n",
            "Epoch 1/30\n",
            "1/1 [==============================] - 3s 3s/step - loss: 1.3830 - accuracy: 0.3125 - val_loss: 1.8769 - val_accuracy: 0.2500\n",
            "Epoch 2/30\n",
            "1/1 [==============================] - 2s 2s/step - loss: 1.8908 - accuracy: 0.2500 - val_loss: 2.0728 - val_accuracy: 0.3750\n",
            "Epoch 3/30\n",
            "1/1 [==============================] - 2s 2s/step - loss: 2.2515 - accuracy: 0.5625 - val_loss: 1.3347 - val_accuracy: 0.3750\n",
            "Epoch 4/30\n",
            "1/1 [==============================] - 3s 3s/step - loss: 1.1211 - accuracy: 0.5312 - val_loss: 1.0752 - val_accuracy: 0.5000\n",
            "Epoch 5/30\n",
            "1/1 [==============================] - 2s 2s/step - loss: 0.9429 - accuracy: 0.6250 - val_loss: 0.9914 - val_accuracy: 0.6250\n",
            "Epoch 6/30\n",
            "1/1 [==============================] - 2s 2s/step - loss: 0.7899 - accuracy: 0.7500 - val_loss: 0.8584 - val_accuracy: 0.7500\n",
            "Epoch 7/30\n",
            "1/1 [==============================] - 2s 2s/step - loss: 0.6738 - accuracy: 0.7500 - val_loss: 0.7482 - val_accuracy: 0.7500\n",
            "Epoch 8/30\n",
            "1/1 [==============================] - 2s 2s/step - loss: 0.4794 - accuracy: 0.8750 - val_loss: 0.6267 - val_accuracy: 0.7500\n",
            "Epoch 9/30\n",
            "1/1 [==============================] - 2s 2s/step - loss: 0.3740 - accuracy: 0.8750 - val_loss: 0.5510 - val_accuracy: 0.8750\n",
            "Epoch 10/30\n",
            "1/1 [==============================] - 3s 3s/step - loss: 0.2974 - accuracy: 0.9688 - val_loss: 0.6339 - val_accuracy: 0.7500\n",
            "Epoch 11/30\n",
            "1/1 [==============================] - 2s 2s/step - loss: 0.1696 - accuracy: 0.9375 - val_loss: 0.6188 - val_accuracy: 0.7500\n",
            "Epoch 12/30\n",
            "1/1 [==============================] - 2s 2s/step - loss: 0.1712 - accuracy: 0.9062 - val_loss: 0.5982 - val_accuracy: 0.7500\n",
            "Epoch 13/30\n",
            "1/1 [==============================] - 2s 2s/step - loss: 0.1531 - accuracy: 0.9688 - val_loss: 0.5901 - val_accuracy: 0.7500\n",
            "Epoch 14/30\n",
            "1/1 [==============================] - 2s 2s/step - loss: 0.2654 - accuracy: 0.9062 - val_loss: 0.7415 - val_accuracy: 0.7500\n",
            "Epoch 15/30\n",
            "1/1 [==============================] - 2s 2s/step - loss: 0.0742 - accuracy: 0.9688 - val_loss: 1.0963 - val_accuracy: 0.7500\n",
            "Epoch 16/30\n",
            "1/1 [==============================] - 3s 3s/step - loss: 0.3133 - accuracy: 0.8750 - val_loss: 0.6983 - val_accuracy: 0.7500\n",
            "Epoch 17/30\n",
            "1/1 [==============================] - 2s 2s/step - loss: 0.0803 - accuracy: 0.9688 - val_loss: 0.5046 - val_accuracy: 0.7500\n",
            "Epoch 18/30\n",
            "1/1 [==============================] - 2s 2s/step - loss: 0.0518 - accuracy: 0.9688 - val_loss: 0.5177 - val_accuracy: 0.7500\n",
            "Epoch 19/30\n",
            "1/1 [==============================] - 2s 2s/step - loss: 0.0440 - accuracy: 1.0000 - val_loss: 0.5262 - val_accuracy: 0.8750\n",
            "Epoch 20/30\n",
            "1/1 [==============================] - 2s 2s/step - loss: 0.0960 - accuracy: 0.9688 - val_loss: 0.5179 - val_accuracy: 0.8750\n",
            "Epoch 21/30\n",
            "1/1 [==============================] - 3s 3s/step - loss: 0.0289 - accuracy: 1.0000 - val_loss: 0.5572 - val_accuracy: 0.8750\n",
            "Epoch 22/30\n",
            "1/1 [==============================] - 2s 2s/step - loss: 0.0219 - accuracy: 1.0000 - val_loss: 0.6342 - val_accuracy: 0.7500\n",
            "Epoch 23/30\n",
            "1/1 [==============================] - 2s 2s/step - loss: 0.0231 - accuracy: 1.0000 - val_loss: 0.5968 - val_accuracy: 0.7500\n",
            "Epoch 24/30\n",
            "1/1 [==============================] - 2s 2s/step - loss: 0.0039 - accuracy: 1.0000 - val_loss: 0.5743 - val_accuracy: 0.7500\n",
            "Epoch 25/30\n",
            "1/1 [==============================] - 2s 2s/step - loss: 0.0232 - accuracy: 1.0000 - val_loss: 0.5145 - val_accuracy: 0.7500\n",
            "Epoch 26/30\n",
            "1/1 [==============================] - 3s 3s/step - loss: 0.0029 - accuracy: 1.0000 - val_loss: 0.4860 - val_accuracy: 0.7500\n",
            "Epoch 27/30\n",
            "1/1 [==============================] - 2s 2s/step - loss: 0.0022 - accuracy: 1.0000 - val_loss: 0.4747 - val_accuracy: 0.7500\n",
            "Epoch 28/30\n",
            "1/1 [==============================] - 2s 2s/step - loss: 0.0054 - accuracy: 1.0000 - val_loss: 0.4838 - val_accuracy: 0.8750\n",
            "Epoch 29/30\n",
            "1/1 [==============================] - 2s 2s/step - loss: 0.0059 - accuracy: 1.0000 - val_loss: 0.4967 - val_accuracy: 0.8750\n",
            "Epoch 30/30\n",
            "1/1 [==============================] - 2s 2s/step - loss: 0.0079 - accuracy: 1.0000 - val_loss: 0.5201 - val_accuracy: 0.8750\n",
            "1/1 [==============================] - 0s 219ms/step - loss: 0.5201 - accuracy: 0.8750\n",
            "Test accuracy: 0.875, Test loss: 0.5200523138046265\n",
            "Found 4 images belonging to 1 classes.\n",
            "4/4 [==============================] - 0s 35ms/step\n",
            "Slika: Te-glTr_0005.jpg\n",
            "Predviđena klasa: Glioma\n",
            "\n",
            "Slika: Te-meTr_0004.jpg\n",
            "Predviđena klasa: Meningioma\n",
            "\n",
            "Slika: Te-noTr_0005.jpg\n",
            "Predviđena klasa: Notumor\n",
            "\n",
            "Slika: Te-piTr_0003.jpg\n",
            "Predviđena klasa: Pituitary\n",
            "\n"
          ]
        }
      ]
    }
  ]
}